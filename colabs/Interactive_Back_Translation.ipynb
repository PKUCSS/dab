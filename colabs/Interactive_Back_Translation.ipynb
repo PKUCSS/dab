{
  "nbformat": 4,
  "nbformat_minor": 0,
  "metadata": {
    "colab": {
      "name": "Interactive Back Translation.ipynb",
      "version": "0.3.2",
      "provenance": [],
      "collapsed_sections": [],
      "include_colab_link": true
    },
    "kernelspec": {
      "name": "python2",
      "display_name": "Python 2"
    },
    "accelerator": "GPU"
  },
  "cells": [
    {
      "cell_type": "markdown",
      "metadata": {
        "id": "view-in-github",
        "colab_type": "text"
      },
      "source": [
        "<a href=\"https://colab.research.google.com/github/vietai/back_translate/blob/master/colabs/Interactive_Back_Translation.ipynb\" target=\"_parent\"><img src=\"https://colab.research.google.com/assets/colab-badge.svg\" alt=\"Open In Colab\"/></a>"
      ]
    },
    {
      "cell_type": "markdown",
      "metadata": {
        "id": "FuzuxFlWeWh2",
        "colab_type": "text"
      },
      "source": [
        "# Data Augmentation by Backtranslation\n",
        "\n",
        "Author:  [ Trieu H. Trinh](https://thtrieu.github.io/), Thang Le, Phat Hoang, [Thang Luong](http://thangluong.com)"
      ]
    },
    {
      "cell_type": "markdown",
      "metadata": {
        "id": "HlgMKwzE0wMu",
        "colab_type": "text"
      },
      "source": [
        "**MIT License**\n",
        "\n",
        "Copyright (c) [2019] [Trieu H. Trinh](https://thtrieu.github.io/)\n",
        "\n",
        "Permission is hereby granted, free of charge, to any person obtaining a copy\n",
        "of this software and associated documentation files (the \"Software\"), to deal\n",
        "in the Software without restriction, including without limitation the rights\n",
        "to use, copy, modify, merge, publish, distribute, sublicense, and/or sell\n",
        "copies of the Software, and to permit persons to whom the Software is\n",
        "furnished to do so, subject to the following conditions:\n",
        "\n",
        "The above copyright notice and this permission notice shall be included in all\n",
        "copies or substantial portions of the Software.\n",
        "\n",
        "THE SOFTWARE IS PROVIDED \"AS IS\", WITHOUT WARRANTY OF ANY KIND, EXPRESS OR\n",
        "IMPLIED, INCLUDING BUT NOT LIMITED TO THE WARRANTIES OF MERCHANTABILITY,\n",
        "FITNESS FOR A PARTICULAR PURPOSE AND NONINFRINGEMENT. IN NO EVENT SHALL THE\n",
        "AUTHORS OR COPYRIGHT HOLDERS BE LIABLE FOR ANY CLAIM, DAMAGES OR OTHER\n",
        "LIABILITY, WHETHER IN AN ACTION OF CONTRACT, TORT OR OTHERWISE, ARISING FROM,\n",
        "OUT OF OR IN CONNECTION WITH THE SOFTWARE OR THE USE OR OTHER DEALINGS IN THE\n",
        "SOFTWARE."
      ]
    },
    {
      "cell_type": "markdown",
      "metadata": {
        "id": "FkgZPK_GpTF0",
        "colab_type": "text"
      },
      "source": [
        "## Introduction\n",
        "\n",
        "Back translation is the process of translating a sentence in language A to language B and back to A. Due to randomess in the translation process, the output of this back-translation is a slight variation of the source sentence with the same semantic meaning. Back-translation is therefore a very useful technique for augmenting NLP datasets. To see such an example, checkout the [Colab here](https://colab.research.google.com/drive/1_I0KvFlHFyBcTRT3Bfx9BGLJcIHGJNrG) and also send love <3 and attention to our [Github repository](https://github.com/vietai/back_translate) for this project. \n",
        "\n",
        "In this Colab, we aim to minimally demonstrate examples of back-translation using our pretrained translation models. The process is simple: first we point to our pretrained models (Vietnamese to English and English to Vietnamese) on Google Cloud Storage, then we use them to interactively back-translate."
      ]
    },
    {
      "cell_type": "markdown",
      "metadata": {
        "colab_type": "text",
        "id": "6Uar8Ae88MmM"
      },
      "source": [
        "## Step 1. Specify path to pretrained translation models\n",
        "\n",
        "You only need to run this step once."
      ]
    },
    {
      "cell_type": "code",
      "metadata": {
        "id": "kRO6TXGLT4Qb",
        "colab_type": "code",
        "cellView": "form",
        "colab": {}
      },
      "source": [
        "print('1. Installing t2t.')\n",
        "!pip install -q -U tensor2tensor\n",
        "print('Done.')\n",
        "\n",
        "print('\\n2. Installing gcsfuse')\n",
        "!echo \"deb http://packages.cloud.google.com/apt gcsfuse-bionic main\" > /etc/apt/sources.list.d/gcsfuse.list\n",
        "!curl https://packages.cloud.google.com/apt/doc/apt-key.gpg | apt-key add -\n",
        "!apt -qq update\n",
        "!apt -qq install gcsfuse\n",
        "\n",
        "import os\n",
        "\n",
        "print('\\n3. Pull/Clone code from github.com/vietai/back_translate')\n",
        "src = '/content/back_translate'\n",
        "if not os.path.exists(src):\n",
        "    !git clone https://github.com/vietai/back_translate.git\n",
        "    %cd \"back_translate\"\n",
        "else:\n",
        "    %cd \"back_translate\"\n",
        "    !git pull\n",
        "!ls\n",
        "\n",
        "from google.colab import auth\n",
        "from tensor2tensor import problems\n",
        "from tensor2tensor.utils import trainer_lib\n",
        "from tensor2tensor.models import transformer\n",
        "import numpy as np\n",
        "import tensorflow as tf\n",
        "\n",
        "print('\\n4. Setup tensorflow.')\n",
        "# Now we run back_translate/problems.py to import Vi2En problem\n",
        "% run $src/problems.py\n",
        "\n",
        "# Enable TF Eager execution\n",
        "tfe = tf.contrib.eager\n",
        "tfe.enable_eager_execution()\n",
        "\n",
        "print('\\n5. Authenticate Google User.')\n",
        "# Authenticate user of this colab.\n",
        "auth.authenticate_user()\n",
        "\n",
        "# Create hparams and the model\n",
        "model_name = \"transformer\"  # @param {type:\"string\"}\n",
        "hparams_set = \"transformer_tiny\"  # @param {type: \"string\"}\n",
        "google_cloud_bucket = 'vien-translation'  # @param {type: \"string\"}\n",
        "vien_path = 'checkpoints/translate_vien_iwslt32k_tiny/avg'  # @param {type:\"string\"}\n",
        "envi_path = 'checkpoints/translate_envi_iwslt32k_tiny/avg'  # @param {type:\"string\"}\n",
        "\n",
        "\n",
        "# Now we mount the local storage to the google cloud bucket.\n",
        "bucket = google_cloud_bucket\n",
        "print('\\n6.Mounting bucket {} to local.'.format(bucket))\n",
        "mount_point = '/content/{}'.format(bucket)\n",
        "\n",
        "if not os.path.exists(mount_point):\n",
        "  tf.gfile.MakeDirs(mount_point)\n",
        "\n",
        "!fusermount -u $mount_point\n",
        "!gcsfuse --implicit-dirs $bucket $mount_point\n",
        "!ls $mount_point\n",
        "\n",
        "envi_dir = os.path.join(mount_point, envi_path)\n",
        "vien_dir = os.path.join(mount_point, vien_path)\n",
        "\n",
        "envi_data_dir = os.path.join(mount_point, \"data/translate_envi_iwslt32k\")\n",
        "vien_data_dir = os.path.join(mount_point, \"data/translate_vien_iwslt32k\")\n",
        "\n",
        "vien_ckpt_path = os.path.join(vien_dir, \"model.ckpt-50000\")\n",
        "envi_ckpt_path = os.path.join(envi_dir, \"model.ckpt-50000\")\n",
        "\n",
        "Modes = tf.estimator.ModeKeys\n",
        "\n",
        "\n",
        "vien_problem = problems.problem(\"translate_vien_iwslt32k\")\n",
        "\n",
        "# Get the encoders from the problem\n",
        "vien_encoders = vien_problem.feature_encoders(vien_data_dir)\n",
        "\n",
        "\n",
        "# Setup helper functions for encoding and decoding\n",
        "def vien_encode(input_str, output_str=None):\n",
        "  \"\"\"Input str to features dict, ready for inference\"\"\"\n",
        "  inputs = vien_encoders[\"inputs\"].encode(input_str) + [1]  # add EOS id\n",
        "  batch_inputs = tf.reshape(inputs, [1, -1, 1])  # Make it 3D.\n",
        "  return {\"inputs\": batch_inputs, \"target_space_id\": tf.constant(1, dtype=tf.int32)}\n",
        "\n",
        "def vien_decode(integers):\n",
        "  \"\"\"List of ints to str\"\"\"\n",
        "  integers = list(np.squeeze(integers))\n",
        "  if 1 in integers:\n",
        "    integers = integers[:integers.index(1)]\n",
        "  return vien_encoders[\"inputs\"].decode(np.squeeze(integers))\n",
        "\n",
        "\n",
        "hparams = trainer_lib.create_hparams(hparams_set, data_dir=vien_data_dir, problem_name=\"translate_vien_iwslt32k\")\n",
        "\n",
        "# NOTE: Only create the model once when restoring from a checkpoint; it's a\n",
        "# Layer and so subsequent instantiations will have different variable scopes\n",
        "# that will not match the checkpoint.\n",
        "translate_vien_model = registry.model(model_name)(hparams, Modes.EVAL)\n",
        "\n",
        "\n",
        "# Restore and translate!\n",
        "def translate_vien(inputs, beam_size=4, alpha=0.6):\n",
        "  encoded_inputs = vien_encode(inputs)\n",
        "\n",
        "  with tfe.restore_variables_on_create(vien_ckpt_path):\n",
        "    translated_outputs = translate_vien_model.infer(encoded_inputs, beam_size=beam_size, alpha=alpha)\n",
        "        \n",
        "  return vien_decode(translated_outputs[\"outputs\"]), translated_outputs[\"cache\"]\n",
        "\n",
        "envi_problem = problems.problem(\"translate_envi_iwslt32k\")\n",
        "\n",
        "# Get the encoders from the problem\n",
        "envi_encoders = envi_problem.feature_encoders(envi_data_dir)\n",
        "\n",
        "envi_hparams = trainer_lib.create_hparams(hparams_set, data_dir=envi_data_dir, problem_name=\"translate_envi_iwslt32k\")\n",
        "translate_envi_model = registry.model(model_name)(envi_hparams, Modes.EVAL)\n",
        "\n",
        "\n",
        "# Setup helper functions for encoding and decoding\n",
        "def envi_encode(input_str, output_str=None):\n",
        "  \"\"\"Input str to features dict, ready for inference\"\"\"\n",
        "  inputs = envi_encoders[\"inputs\"].encode(input_str) + [1]  # add EOS id\n",
        "  batch_inputs = tf.reshape(inputs, [1, -1, 1])  # Make it 3D.\n",
        "  return {\"inputs\": batch_inputs, \"target_space_id\": tf.constant(1, dtype=tf.int32)}\n",
        "\n",
        "def envi_decode(integers):\n",
        "  \"\"\"List of ints to str\"\"\"\n",
        "  integers = list(np.squeeze(integers))\n",
        "  if 1 in integers:\n",
        "    integers = integers[:integers.index(1)]\n",
        "  return envi_encoders[\"inputs\"].decode(np.squeeze(integers))\n",
        "\n",
        "\n",
        "\n",
        "def translate_envi(inputs, beam_size=4, alpha=0.6):\n",
        "    encoded_inputs = envi_encode(inputs)\n",
        "    \n",
        "    with tfe.restore_variables_on_create(envi_ckpt_path):\n",
        "        translated_outputs = translate_envi_model.infer(encoded_inputs, beam_size=beam_size, alpha=alpha)\n",
        "        \n",
        "    return envi_decode(translated_outputs[\"outputs\"]), translated_outputs[\"cache\"]"
      ],
      "execution_count": 0,
      "outputs": []
    },
    {
      "cell_type": "markdown",
      "metadata": {
        "id": "cwH1Iqau-udo",
        "colab_type": "text"
      },
      "source": [
        "## Step 2. Back translating a sentence.\n",
        "\n",
        "You can repeat this step as many times as you wish."
      ]
    },
    {
      "cell_type": "markdown",
      "metadata": {
        "id": "3ITqk72kujSK",
        "colab_type": "text"
      },
      "source": [
        "### a. Back-translating a Vietnamese sentence"
      ]
    },
    {
      "cell_type": "code",
      "metadata": {
        "id": "hEoMmnXO2UaZ",
        "colab_type": "code",
        "cellView": "form",
        "outputId": "36886d84-1b0f-4864-a974-518b7e4c5355",
        "colab": {
          "base_uri": "https://localhost:8080/",
          "height": 51
        }
      },
      "source": [
        "beam_size = 2 #@param {type: \"integer\"}\n",
        "alpha = 0.6\n",
        "# Tôi từng ước mơ trở thành cầu thủ bóng đá\n",
        "vi_input_sentence = \"Tôi từng ước mơ trở thành cầu thủ bóng đá\" #@param {type:\"raw\"}\n",
        "en_output_sentence, _ = translate_vien(vi_input_sentence, beam_size=beam_size, alpha=alpha)\n",
        "vi_output_sentence, _ = translate_envi(en_output_sentence, beam_size=beam_size, alpha=alpha)\n",
        "print(\"Paraphrased: {}\".format(vi_output_sentence))\n"
      ],
      "execution_count": 6,
      "outputs": [
        {
          "output_type": "stream",
          "text": [
            "Augmented data:\n",
            "Tôi đã mơ ước là một người chơi bóng đá .\n"
          ],
          "name": "stdout"
        }
      ]
    },
    {
      "cell_type": "markdown",
      "metadata": {
        "id": "QB8WUiyaul48",
        "colab_type": "text"
      },
      "source": [
        "### b. Back translating an English sentence"
      ]
    },
    {
      "cell_type": "code",
      "metadata": {
        "id": "KJ5IMgC1uJPe",
        "colab_type": "code",
        "colab": {
          "base_uri": "https://localhost:8080/",
          "height": 34
        },
        "cellView": "form",
        "outputId": "20479c57-10d6-49c3-b908-b2ce5a9f1aae"
      },
      "source": [
        "beam_size = 2 #@param {type: \"integer\"}\n",
        "alpha = 0.6\n",
        "en_input_sentence = \"It is definitely our duty to push the boundary of scientific research .\" #@param {type:\"raw\"}\n",
        "vi_output_sentence, _ = translate_envi(en_input_sentence, beam_size=beam_size, alpha=alpha)\n",
        "en_output_sentence, _ = translate_vien(vi_output_sentence, beam_size=beam_size, alpha=alpha)\n",
        "print(\"Paraphrased: {}\".format(en_output_sentence.replace('&apos;', '\\'')))\n"
      ],
      "execution_count": 45,
      "outputs": [
        {
          "output_type": "stream",
          "text": [
            "Paraphrased: It 's certainly our mission to push the boundaries of science .\n"
          ],
          "name": "stdout"
        }
      ]
    },
    {
      "cell_type": "markdown",
      "metadata": {
        "id": "Gn5aGaGvADKL",
        "colab_type": "text"
      },
      "source": [
        "## Acknowledgements\n",
        "\n",
        "This work is made possible by [VietAI](http://vietai.org/).\n",
        "\n",
        "## References\n",
        "\n",
        "1. Improving Neural Machine Translation Models with Monolingual Data - Sennrich et al. , 2016a  ([arxiv](https://arxiv.org/abs/1511.06709))\n",
        "2. Understanding Back-Translation at Scale - Edunov, Sergey, et al., 2018 ([arxiv](https://arxiv.org/abs/1808.09381))\n",
        "3. T2T translate vi<->en tiny tpu - Trieu H. Trinh ([colab](https://colab.research.google.com/drive/1Bx5HfxbmXnMK7kBLHlmGyhVhQVVrDI0p))\n",
        "4. Sentiment Analysis + Back translation - Trieu H. Trinh ([colab](https://colab.research.google.com/drive/1_I0KvFlHFyBcTRT3Bfx9BGLJcIHGJNrG#scrollTo=7yvhttVKTkZu))\n",
        "5. Tensor2Tensor Intro - Tensor2Tensor Team([colab](https://colab.research.google.com/github/tensorflow/tensor2tensor/blob/master/tensor2tensor/notebooks/hello_t2t.ipynb))\n"
      ]
    }
  ]
}